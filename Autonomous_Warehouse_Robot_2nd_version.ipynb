{
  "nbformat": 4,
  "nbformat_minor": 0,
  "metadata": {
    "colab": {
      "provenance": [],
      "authorship_tag": "ABX9TyO2AuBEFaKrMVoRyDZicIlC",
      "include_colab_link": true
    },
    "kernelspec": {
      "name": "python3",
      "display_name": "Python 3"
    },
    "language_info": {
      "name": "python"
    }
  },
  "cells": [
    {
      "cell_type": "markdown",
      "metadata": {
        "id": "view-in-github",
        "colab_type": "text"
      },
      "source": [
        "<a href=\"https://colab.research.google.com/github/AkshitSingh11/Autonomous-Warehouse-Robot--Q-learning/blob/main/Autonomous_Warehouse_Robot_2nd_version.ipynb\" target=\"_parent\"><img src=\"https://colab.research.google.com/assets/colab-badge.svg\" alt=\"Open In Colab\"/></a>"
      ]
    },
    {
      "cell_type": "markdown",
      "source": [
        "In the 1st version, we didn't care about the 2nd priority location and found that we run our code mutiple times, it may output 2 different results. We also had to initialize the top priority by ourselves in the reward matrix.\n",
        "<br>\n",
        "In this version we take care of that by combining the initialization of rewards matrix inside our route function. We will make the reward of ending location to be 1000 inside our function.\n",
        "<br>\n",
        "To get the best route, we will implement another function that will call our route function twice: Once from starting location to intermediary location and then from intermediary location to ending location.\n"
      ],
      "metadata": {
        "id": "1fkpjmRvLj-7"
      }
    },
    {
      "cell_type": "markdown",
      "source": [
        "# Importing the dependencies"
      ],
      "metadata": {
        "id": "UJTchWt3x5T2"
      }
    },
    {
      "cell_type": "code",
      "source": [
        "import numpy as np"
      ],
      "metadata": {
        "id": "6lFydTWxx6vQ"
      },
      "execution_count": 1,
      "outputs": []
    },
    {
      "cell_type": "markdown",
      "source": [
        "# Setting the parameters"
      ],
      "metadata": {
        "id": "LBowaM0fyPsx"
      }
    },
    {
      "cell_type": "code",
      "source": [
        "gamma = 0.75     # Discount Factor\n",
        "alpha = 0.9      # learning rate"
      ],
      "metadata": {
        "id": "VPINaNG4yV-X"
      },
      "execution_count": 2,
      "outputs": []
    },
    {
      "cell_type": "markdown",
      "source": [
        "# Defining The Environment"
      ],
      "metadata": {
        "id": "xRYFZe0AyrtF"
      }
    },
    {
      "cell_type": "markdown",
      "source": [
        "Priority rank of the locations has been pre-defined in the question.\n",
        "Priority Rank:\n",
        "* 1 - G\n",
        "* 2 - K\n",
        "* 3 - L\n",
        "* 4 - J\n",
        "* 5 - A\n",
        "* 6 - I\n",
        "* 7 - H\n",
        "* 8 - C\n",
        "* 9 - B\n",
        "* 10 - D\n",
        "* 11 - F\n",
        "* 12 - E"
      ],
      "metadata": {
        "id": "sEl4u_PLDyNQ"
      }
    },
    {
      "cell_type": "markdown",
      "source": [
        "## Defining the States"
      ],
      "metadata": {
        "id": "1GxgpYvSywvd"
      }
    },
    {
      "cell_type": "code",
      "source": [
        "location_to_state = {'A': 0,\n",
        "                     'B': 1,\n",
        "                     'C': 2,\n",
        "                     'D': 3,\n",
        "                     'E': 4,\n",
        "                     'F': 5,\n",
        "                     'G': 6,\n",
        "                     'H': 7,\n",
        "                     'I': 8,\n",
        "                     'J': 9,\n",
        "                     'K': 10,\n",
        "                     'L': 11}"
      ],
      "metadata": {
        "id": "w9bH92jhy-J5"
      },
      "execution_count": 3,
      "outputs": []
    },
    {
      "cell_type": "markdown",
      "source": [
        "## Defining the actions"
      ],
      "metadata": {
        "id": "buqMEMjkzZUz"
      }
    },
    {
      "cell_type": "code",
      "source": [
        "actions = [0,1,2,3,4,5,6,7,8,9,10,11]"
      ],
      "metadata": {
        "id": "WR9HmQ800JPG"
      },
      "execution_count": 4,
      "outputs": []
    },
    {
      "cell_type": "markdown",
      "source": [
        "## Defining the rewards"
      ],
      "metadata": {
        "id": "lcZ7UUMK0KHw"
      }
    },
    {
      "cell_type": "markdown",
      "source": [
        "Each row corresponds to the corresponding state and each column corresponds to the corresponding action.\n"
      ],
      "metadata": {
        "id": "19Kywh3T0mj4"
      }
    },
    {
      "cell_type": "code",
      "source": [
        "R = np.array([[0,1,0,0,0,0,0,0,0,0,0,0],\n",
        "              [1,0,1,0,0,1,0,0,0,0,0,0],\n",
        "              [0,1,0,0,0,0,1,0,0,0,0,0],\n",
        "              [0,0,0,0,0,0,0,1,0,0,0,0],\n",
        "              [0,0,0,0,0,0,0,0,1,0,0,0],\n",
        "              [0,1,0,0,0,0,0,0,0,1,0,0],\n",
        "              [0,0,1,0,0,0,1,1,0,0,0,0],\n",
        "              [0,0,0,1,0,0,1,0,0,0,0,1],\n",
        "              [0,0,0,0,1,0,0,0,0,1,0,0],\n",
        "              [0,0,0,0,0,1,0,0,1,0,1,0],\n",
        "              [0,0,0,0,0,0,0,0,0,1,0,1],\n",
        "              [0,0,0,0,0,0,0,1,0,0,1,0]])"
      ],
      "metadata": {
        "id": "jWoF8_hN0MmF"
      },
      "execution_count": 5,
      "outputs": []
    },
    {
      "cell_type": "markdown",
      "source": [
        "# Building the AI solution with Q-Learning"
      ],
      "metadata": {
        "id": "5EYXfpw61pBA"
      }
    },
    {
      "cell_type": "code",
      "source": [
        "# Making a mapping from states to the locations\n",
        "state_to_location = {state: location for location, state in location_to_state.items()}"
      ],
      "metadata": {
        "id": "0AnUDkUAK2ss"
      },
      "execution_count": 6,
      "outputs": []
    },
    {
      "cell_type": "markdown",
      "source": [
        "## Function that returns the shortest route from a starting to ending location"
      ],
      "metadata": {
        "id": "Rx1vk5PXKLMk"
      }
    },
    {
      "cell_type": "code",
      "source": [
        "def route(starting_location, ending_location):\n",
        "    R_new = np.copy(R)\n",
        "    ending_state = location_to_state[ending_location]\n",
        "    R_new[ending_state][ending_state] = 1000      # changing reward of ending location\n",
        "    Q = np.array(np.zeros([12,12]))\n",
        "\n",
        "    # Making our Q-values matrix\n",
        "    for i in range(1000):\n",
        "        current_state = np.random.randint(0,12)\n",
        "        playable_actions = []\n",
        "        for j in range(12):\n",
        "            if R_new[current_state][j] > 0:\n",
        "                playable_actions.append(j)\n",
        "        next_state = np.random.choice(playable_actions)\n",
        "        TD = R_new[current_state][next_state] + gamma*Q[next_state][np.argmax(Q[next_state,])] - Q[current_state][next_state]\n",
        "        Q[current_state][next_state] = Q[current_state][next_state] + alpha*TD\n",
        "\n",
        "    route = [starting_location]\n",
        "    next_location = starting_location\n",
        "    # Getting route from starting location to ending location\n",
        "    while (next_location != ending_location):\n",
        "        starting_state = location_to_state[starting_location]\n",
        "        next_state = np.argmax(Q[starting_state,])\n",
        "        next_location = state_to_location[next_state]\n",
        "        route.append(next_location)\n",
        "        starting_location = next_location\n",
        "    return route"
      ],
      "metadata": {
        "id": "QS2EO9XCKF8e"
      },
      "execution_count": 7,
      "outputs": []
    },
    {
      "cell_type": "markdown",
      "source": [
        "## Function to return best optimal route"
      ],
      "metadata": {
        "id": "UuXW7tu0AE-O"
      }
    },
    {
      "cell_type": "code",
      "source": [
        "def best_route(starting_location, intermediary_location, ending_location):\n",
        "    return route(starting_location, intermediary_location) + route(intermediary_location, ending_location)[1:]"
      ],
      "metadata": {
        "id": "A9P2HWhGAJlt"
      },
      "execution_count": 8,
      "outputs": []
    },
    {
      "cell_type": "markdown",
      "source": [
        "# Testing our model"
      ],
      "metadata": {
        "id": "Rmzy_qqKA_eS"
      }
    },
    {
      "cell_type": "code",
      "source": [
        "print('Best Route')\n",
        "best_route('E','K','G')"
      ],
      "metadata": {
        "colab": {
          "base_uri": "https://localhost:8080/"
        },
        "id": "zYeV690xAu8X",
        "outputId": "26c17724-81a0-4b65-cc9e-7b293762be7e"
      },
      "execution_count": 9,
      "outputs": [
        {
          "output_type": "stream",
          "name": "stdout",
          "text": [
            "Best Route\n"
          ]
        },
        {
          "output_type": "execute_result",
          "data": {
            "text/plain": [
              "['E', 'I', 'J', 'K', 'L', 'H', 'G']"
            ]
          },
          "metadata": {},
          "execution_count": 9
        }
      ]
    },
    {
      "cell_type": "code",
      "source": [
        "print('Best Route')\n",
        "best_route('A','K','G')"
      ],
      "metadata": {
        "colab": {
          "base_uri": "https://localhost:8080/"
        },
        "id": "Iy-ogJj6LfkR",
        "outputId": "46f3cb13-66ad-4a52-b92d-ec927b027b85"
      },
      "execution_count": 10,
      "outputs": [
        {
          "output_type": "stream",
          "name": "stdout",
          "text": [
            "Best Route\n"
          ]
        },
        {
          "output_type": "execute_result",
          "data": {
            "text/plain": [
              "['A', 'B', 'F', 'J', 'K', 'L', 'H', 'G']"
            ]
          },
          "metadata": {},
          "execution_count": 10
        }
      ]
    },
    {
      "cell_type": "code",
      "source": [
        "print('Best Route')\n",
        "best_route('D','K','G')"
      ],
      "metadata": {
        "colab": {
          "base_uri": "https://localhost:8080/"
        },
        "id": "jhiPy7XmDEIZ",
        "outputId": "96ffab3e-a269-4018-ed88-c7941e0fafa0"
      },
      "execution_count": 11,
      "outputs": [
        {
          "output_type": "stream",
          "name": "stdout",
          "text": [
            "Best Route\n"
          ]
        },
        {
          "output_type": "execute_result",
          "data": {
            "text/plain": [
              "['D', 'H', 'L', 'K', 'L', 'H', 'G']"
            ]
          },
          "metadata": {},
          "execution_count": 11
        }
      ]
    }
  ]
}