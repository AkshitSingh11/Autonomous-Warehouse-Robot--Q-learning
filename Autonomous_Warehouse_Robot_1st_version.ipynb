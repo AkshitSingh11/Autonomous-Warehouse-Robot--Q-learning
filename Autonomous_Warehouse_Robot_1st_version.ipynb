{
  "nbformat": 4,
  "nbformat_minor": 0,
  "metadata": {
    "colab": {
      "provenance": [],
      "authorship_tag": "ABX9TyPjJSWnZGhurepH1FDXCHgI",
      "include_colab_link": true
    },
    "kernelspec": {
      "name": "python3",
      "display_name": "Python 3"
    },
    "language_info": {
      "name": "python"
    }
  },
  "cells": [
    {
      "cell_type": "markdown",
      "metadata": {
        "id": "view-in-github",
        "colab_type": "text"
      },
      "source": [
        "<a href=\"https://colab.research.google.com/github/AkshitSingh11/Autonomous-Warehouse-Robot--Q-learning/blob/main/Autonomous_Warehouse_Robot_1st_version.ipynb\" target=\"_parent\"><img src=\"https://colab.research.google.com/assets/colab-badge.svg\" alt=\"Open In Colab\"/></a>"
      ]
    },
    {
      "cell_type": "markdown",
      "source": [
        "# Importing the dependencies"
      ],
      "metadata": {
        "id": "UJTchWt3x5T2"
      }
    },
    {
      "cell_type": "code",
      "source": [
        "import numpy as np"
      ],
      "metadata": {
        "id": "6lFydTWxx6vQ"
      },
      "execution_count": 1,
      "outputs": []
    },
    {
      "cell_type": "markdown",
      "source": [
        "# Setting the parameters"
      ],
      "metadata": {
        "id": "LBowaM0fyPsx"
      }
    },
    {
      "cell_type": "code",
      "source": [
        "gamma = 0.75     # Discount Factor\n",
        "alpha = 0.9      # learning rate"
      ],
      "metadata": {
        "id": "VPINaNG4yV-X"
      },
      "execution_count": 2,
      "outputs": []
    },
    {
      "cell_type": "markdown",
      "source": [
        "# Defining The Environment"
      ],
      "metadata": {
        "id": "xRYFZe0AyrtF"
      }
    },
    {
      "cell_type": "markdown",
      "source": [
        "Priority rank of the locations has been pre-defined in the question.\n",
        "Priority Rank:\n",
        "* 1 - G\n",
        "* 2 - K\n",
        "* 3 - L\n",
        "* 4 - J\n",
        "* 5 - A\n",
        "* 6 - I\n",
        "* 7 - H\n",
        "* 8 - C\n",
        "* 9 - B\n",
        "* 10 - D\n",
        "* 11 - F\n",
        "* 12 - E"
      ],
      "metadata": {
        "id": "sEl4u_PLDyNQ"
      }
    },
    {
      "cell_type": "markdown",
      "source": [
        "## Defining the States"
      ],
      "metadata": {
        "id": "1GxgpYvSywvd"
      }
    },
    {
      "cell_type": "code",
      "source": [
        "location_to_state = {'A': 0,\n",
        "                     'B': 1,\n",
        "                     'C': 2,\n",
        "                     'D': 3,\n",
        "                     'E': 4,\n",
        "                     'F': 5,\n",
        "                     'G': 6,\n",
        "                     'H': 7,\n",
        "                     'I': 8,\n",
        "                     'J': 9,\n",
        "                     'K': 10,\n",
        "                     'L': 11}"
      ],
      "metadata": {
        "id": "w9bH92jhy-J5"
      },
      "execution_count": 3,
      "outputs": []
    },
    {
      "cell_type": "markdown",
      "source": [
        "## Defining the actions"
      ],
      "metadata": {
        "id": "buqMEMjkzZUz"
      }
    },
    {
      "cell_type": "code",
      "source": [
        "actions = [0,1,2,3,4,5,6,7,8,9,10,11]"
      ],
      "metadata": {
        "id": "WR9HmQ800JPG"
      },
      "execution_count": 6,
      "outputs": []
    },
    {
      "cell_type": "markdown",
      "source": [
        "## Defining the rewards"
      ],
      "metadata": {
        "id": "lcZ7UUMK0KHw"
      }
    },
    {
      "cell_type": "markdown",
      "source": [
        "Each row corresponds to the corresponding state and each column corresponds to the corresponding action.\n",
        "\n",
        "Since Location G has highest priority, its value is set to a higher reward, i.e. (6,6) is set to 1000 as G corresponds to row 6"
      ],
      "metadata": {
        "id": "19Kywh3T0mj4"
      }
    },
    {
      "cell_type": "code",
      "source": [
        "R = np.array([[0,1,0,0,0,0,0,0,0,0,0,0],\n",
        "              [1,0,1,0,0,1,0,0,0,0,0,0],\n",
        "              [0,1,0,0,0,0,1,0,0,0,0,0],\n",
        "              [0,0,0,0,0,0,0,1,0,0,0,0],\n",
        "              [0,0,0,0,0,0,0,0,1,0,0,0],\n",
        "              [0,1,0,0,0,0,0,0,0,1,0,0],\n",
        "              [0,0,1,0,0,0,1000,1,0,0,0,0],\n",
        "              [0,0,0,1,0,0,1,0,0,0,0,1],\n",
        "              [0,0,0,0,1,0,0,0,0,1,0,0],\n",
        "              [0,0,0,0,0,1,0,0,1,0,1,0],\n",
        "              [0,0,0,0,0,0,0,0,0,1,0,1],\n",
        "              [0,0,0,0,0,0,0,1,0,0,1,0]])"
      ],
      "metadata": {
        "id": "jWoF8_hN0MmF"
      },
      "execution_count": 13,
      "outputs": []
    },
    {
      "cell_type": "markdown",
      "source": [
        "# Building the AI solution with Q-Learning"
      ],
      "metadata": {
        "id": "5EYXfpw61pBA"
      }
    },
    {
      "cell_type": "markdown",
      "source": [
        "## Initializing the Q-Values"
      ],
      "metadata": {
        "id": "sLQAbJTD10LY"
      }
    },
    {
      "cell_type": "code",
      "source": [
        "Q = np.array(np.zeros([12,12]))"
      ],
      "metadata": {
        "id": "qTsx2awe14NB"
      },
      "execution_count": 14,
      "outputs": []
    },
    {
      "cell_type": "markdown",
      "source": [
        "##Q-learning Process"
      ],
      "metadata": {
        "id": "3namABRX2wbQ"
      }
    },
    {
      "cell_type": "code",
      "source": [
        "for i in range(1000):\n",
        "  current_state= np.random.randint(0,12)   #choosing a random starting point\n",
        "  playable_actions=[]\n",
        "  for j in range(12):\n",
        "    if R[current_state][j]>0:\n",
        "      playable_actions.append(j)\n",
        "  next_state = np.random.choice(playable_actions)   #choosing a random step\n",
        "  TD = R[current_state][next_state]+ gamma*Q[next_state][np.argmax(Q[next_state,])] - Q[current_state,next_state]     # Calculating temporal difference\n",
        "  Q[current_state][next_state]= Q[current_state][next_state] + alpha*TD     # Updating the Q-values in the matrix"
      ],
      "metadata": {
        "id": "JlmlWRO02zbQ"
      },
      "execution_count": 15,
      "outputs": []
    },
    {
      "cell_type": "code",
      "source": [
        "print(\"Q-Values\")\n",
        "print(Q.astype(int))"
      ],
      "metadata": {
        "colab": {
          "base_uri": "https://localhost:8080/"
        },
        "id": "Jw-ZDrx86MCh",
        "outputId": "e2b5f7c7-a6b2-486d-eaeb-c023eaed963d"
      },
      "execution_count": 16,
      "outputs": [
        {
          "output_type": "stream",
          "name": "stdout",
          "text": [
            "Q-Values\n",
            "[[   0 1681    0    0    0    0    0    0    0    0    0    0]\n",
            " [1261    0 2240    0    0 1262    0    0    0    0    0    0]\n",
            " [   0 1677    0    0    0    0 2986    0    0    0    0    0]\n",
            " [   0    0    0    0    0    0    0 2240    0    0    0    0]\n",
            " [   0    0    0    0    0    0    0    0  710    0    0    0]\n",
            " [   0 1681    0    0    0    0    0    0    0  947    0    0]\n",
            " [   0    0 2237    0    0    0 3981 2236    0    0    0    0]\n",
            " [   0    0    0 1681    0    0 2986    0    0    0    0 1681]\n",
            " [   0    0    0    0  526    0    0    0    0  945    0    0]\n",
            " [   0    0    0    0    0 1261    0    0  700    0 1261    0]\n",
            " [   0    0    0    0    0    0    0    0    0  947    0 1681]\n",
            " [   0    0    0    0    0    0    0 2240    0    0 1261    0]]\n"
          ]
        }
      ]
    },
    {
      "cell_type": "code",
      "source": [
        "# Making a mapping from states to the locations\n",
        "state_to_location = {state: location for location, state in location_to_state.items()}"
      ],
      "metadata": {
        "id": "UAYHt_aZ7HE4"
      },
      "execution_count": 17,
      "outputs": []
    },
    {
      "cell_type": "markdown",
      "source": [
        "## Function to return optimal route"
      ],
      "metadata": {
        "id": "UuXW7tu0AE-O"
      }
    },
    {
      "cell_type": "code",
      "source": [
        "def route(starting_location, ending_location):\n",
        "  route =[starting_location]\n",
        "  next_location= starting_location\n",
        "  while (next_location!=ending_location):\n",
        "    starting_state= location_to_state[starting_location]\n",
        "    next_state = np.argmax(Q[starting_state,])      #choosing next_state\n",
        "    next_location = state_to_location[next_state]\n",
        "    route.append(next_location)   #appending the next location in our route array\n",
        "    starting_location= next_location\n",
        "  return route"
      ],
      "metadata": {
        "id": "A9P2HWhGAJlt"
      },
      "execution_count": 18,
      "outputs": []
    },
    {
      "cell_type": "markdown",
      "source": [
        "# Testing our model"
      ],
      "metadata": {
        "id": "Rmzy_qqKA_eS"
      }
    },
    {
      "cell_type": "code",
      "source": [
        "print('Route')\n",
        "route('E','G')"
      ],
      "metadata": {
        "colab": {
          "base_uri": "https://localhost:8080/"
        },
        "id": "zYeV690xAu8X",
        "outputId": "9e094daf-9565-49a6-8159-00a0649e6397"
      },
      "execution_count": 21,
      "outputs": [
        {
          "output_type": "stream",
          "name": "stdout",
          "text": [
            "Route\n"
          ]
        },
        {
          "output_type": "execute_result",
          "data": {
            "text/plain": [
              "['E', 'I', 'J', 'F', 'B', 'C', 'G']"
            ]
          },
          "metadata": {},
          "execution_count": 21
        }
      ]
    },
    {
      "cell_type": "code",
      "source": [
        "print('Route')\n",
        "route('A','G')"
      ],
      "metadata": {
        "colab": {
          "base_uri": "https://localhost:8080/"
        },
        "id": "jhiPy7XmDEIZ",
        "outputId": "847b6891-d5bc-4153-b225-2433181f3b0b"
      },
      "execution_count": 22,
      "outputs": [
        {
          "output_type": "stream",
          "name": "stdout",
          "text": [
            "Route\n"
          ]
        },
        {
          "output_type": "execute_result",
          "data": {
            "text/plain": [
              "['A', 'B', 'C', 'G']"
            ]
          },
          "metadata": {},
          "execution_count": 22
        }
      ]
    }
  ]
}